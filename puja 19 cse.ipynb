{
 "cells": [
  {
   "cell_type": "markdown",
   "id": "hollywood-athletics",
   "metadata": {},
   "source": [
    "<h1> what is data type?<h1>"
   ]
  },
  {
   "cell_type": "markdown",
   "id": "prime-relation",
   "metadata": {},
   "source": [
    "<p> Data types are the classification or catagorization of data items .its represents the kind of variable .when the program is compile ,it run on the tha data type</p>"
   ]
  },
  {
   "cell_type": "markdown",
   "id": "flush-welding",
   "metadata": {},
   "source": [
    "<h1>Describe all the data types with an example<h1>"
   ]
  },
  {
   "cell_type": "markdown",
   "id": "saved-cancer",
   "metadata": {},
   "source": [
    "<p> Numeric Types:\n",
    "    1.int.Example:int x=23;float=x=4.56,complex=7+2j;\n",
    "    2.sequence type:list x=[1,2,3,4],tuple x={1,2,3};\n",
    "    3.Mapping type:dict x={\"name\"=\"puja\",\"age\"=\"21\"};\n",
    "    4.set types:set x={\"puja\",\"sristy\",\"prottoy\"};\n",
    "    5.Text types:str x=\"welcome to the python\";\n",
    "    6.Boolean types:bool x=True,y=False</p>\n",
    "    "
   ]
  },
  {
   "cell_type": "code",
   "execution_count": 2,
   "id": "cardiac-baghdad",
   "metadata": {},
   "outputs": [
    {
     "name": "stdout",
     "output_type": "stream",
     "text": [
      "PujaGhosh\n"
     ]
    }
   ],
   "source": [
    "print(\"Puja\",\"Ghosh\",sep=\"\")\n"
   ]
  },
  {
   "cell_type": "code",
   "execution_count": 3,
   "id": "funky-palace",
   "metadata": {},
   "outputs": [
    {
     "name": "stdout",
     "output_type": "stream",
     "text": [
      "puja Ghosh\n"
     ]
    }
   ],
   "source": [
    "print(\"puja\",\"Ghosh\",end='\\n')"
   ]
  },
  {
   "cell_type": "markdown",
   "id": "pointed-consent",
   "metadata": {},
   "source": [
    "<p> when we dont want space we must use sep=\"\",and when we need space between two string we use end='\\n'.<\\p>"
   ]
  },
  {
   "cell_type": "markdown",
   "id": "national-wheat",
   "metadata": {},
   "source": [
    "<h1>operator<h1>\n"
   ]
  },
  {
   "cell_type": "markdown",
   "id": "paperback-funeral",
   "metadata": {},
   "source": [
    "<p>What is python operator?Describe three types of operator<p> "
   ]
  },
  {
   "cell_type": "markdown",
   "id": "brown-laugh",
   "metadata": {},
   "source": [
    "<p>ans:Python operator is a symbol that performs an operation on one or more operands. An operand is a variable or a value on which we perform the operation.</p>"
   ]
  },
  {
   "cell_type": "markdown",
   "id": "optimum-pharmacology",
   "metadata": {},
   "source": [
    "<p> Three operator:1.Arithmatic operator:These Python arithmetic operators include Python operators for basic mathematical operations.addition(2+3=5),subtraction(10-8=2),multiplication=(5*6=30),division(9/3=3).2.Relational operator:it carries out the comparison between operands.They tell us whether an operand is greater than the other, lesser, equal, or a combination of those.Less than,Greater than,equal to,not equal to etc;3.Assignment operator:Python assignment operator assigns a value to a variable. It may manipulate the value by a factor before assigning it.We have 8 assignment operators- one plain, and seven for the 7 arithmetic python operator.Example:Assign(=),add to assign(+=),subtract to assign(-=),divide and assign(/=),multiply and assign(*=).\n",
    "\n",
    ".\n",
    "\n",
    "."
   ]
  },
  {
   "cell_type": "markdown",
   "id": "historical-leave",
   "metadata": {},
   "source": [
    "<h1>PROBLEM 1</h1>\n",
    "\n"
   ]
  },
  {
   "cell_type": "code",
   "execution_count": 4,
   "id": "adaptive-sandwich",
   "metadata": {},
   "outputs": [
    {
     "name": "stdout",
     "output_type": "stream",
     "text": [
      "6\n"
     ]
    }
   ],
   "source": [
    "my_list=[4,5,6,7,8,9,10]\n",
    "print(my_list[2])"
   ]
  },
  {
   "cell_type": "markdown",
   "id": "terminal-marker",
   "metadata": {},
   "source": [
    "<h1> PROBLEM 2</h1>"
   ]
  },
  {
   "cell_type": "code",
   "execution_count": 7,
   "id": "continental-coast",
   "metadata": {},
   "outputs": [
    {
     "name": "stdout",
     "output_type": "stream",
     "text": [
      "enter input one:2\n",
      "enter input two:4\n",
      "sum of the two numbers: 6\n",
      "Difference between two numbers: -2\n",
      "Product of the numbers: 8\n"
     ]
    }
   ],
   "source": [
    "a=int(input(\"enter input one:\"))\n",
    "b=int(input(\"enter input two:\"))\n",
    "print(\"sum of the two numbers:\",a+b)\n",
    "print(\"Difference between two numbers:\",a-b)\n",
    "print(\"Product of the numbers:\",a*b)"
   ]
  },
  {
   "cell_type": "markdown",
   "id": "coastal-speaking",
   "metadata": {},
   "source": [
    "<h1>Problem 3</h1>"
   ]
  },
  {
   "cell_type": "code",
   "execution_count": 8,
   "id": "technological-spanish",
   "metadata": {},
   "outputs": [
    {
     "name": "stdout",
     "output_type": "stream",
     "text": [
      "enter the first input:3\n",
      "enter the second input:5\n",
      "0\n",
      "0.6\n"
     ]
    }
   ],
   "source": [
    "a=int(input(\"enter the first input:\"))\n",
    "b=int(input(\"enter the second input:\"))\n",
    "i=int(a/b)\n",
    "f=float(a/b)\n",
    "print(i)\n",
    "print(f)"
   ]
  },
  {
   "cell_type": "markdown",
   "id": "fiscal-cherry",
   "metadata": {},
   "source": [
    "<h1>Problem 4</h1>"
   ]
  },
  {
   "cell_type": "code",
   "execution_count": 9,
   "id": "shared-brush",
   "metadata": {},
   "outputs": [
    {
     "name": "stdout",
     "output_type": "stream",
     "text": [
      "Red\n",
      "black\n"
     ]
    }
   ],
   "source": [
    "list=[\"Red\",\"Green\",\"White\",\"black\"]\n",
    "print(list[0])\n",
    "print(list[3])"
   ]
  },
  {
   "cell_type": "markdown",
   "id": "dietary-vegetarian",
   "metadata": {},
   "source": [
    "<h1>Problem 5</h1>"
   ]
  },
  {
   "cell_type": "code",
   "execution_count": 16,
   "id": "intended-package",
   "metadata": {},
   "outputs": [
    {
     "name": "stdout",
     "output_type": "stream",
     "text": [
      "a string you don't have to escape\n",
      "           This\n",
      "     is a......... multiline\n",
      "heredoc string --------> example\n"
     ]
    }
   ],
   "source": [
    "print(\"a string you don't have to escape\",\"           This\", \"     is a......... multiline\",\"heredoc string --------> example\",sep=\"\\n\")"
   ]
  },
  {
   "cell_type": "code",
   "execution_count": null,
   "id": "monetary-claim",
   "metadata": {},
   "outputs": [],
   "source": []
  },
  {
   "cell_type": "markdown",
   "id": "increasing-joint",
   "metadata": {},
   "source": [
    "<h1>Problem 6<h1>"
   ]
  },
  {
   "cell_type": "code",
   "execution_count": 13,
   "id": "infrared-seattle",
   "metadata": {},
   "outputs": [
    {
     "name": "stdout",
     "output_type": "stream",
     "text": [
      "enter base:5\n",
      "enter height:6\n",
      "area=  15.0\n"
     ]
    }
   ],
   "source": [
    "a=int(input(\"enter base:\"))\n",
    "b=int(input(\"enter height:\"))\n",
    "c=0.5*a*b;\n",
    "print(\"area= \",c)"
   ]
  },
  {
   "cell_type": "markdown",
   "id": "optional-booth",
   "metadata": {},
   "source": [
    "<h1>Problem 7</h1>"
   ]
  },
  {
   "cell_type": "code",
   "execution_count": 19,
   "id": "bored-wednesday",
   "metadata": {
    "scrolled": true
   },
   "outputs": [
    {
     "name": "stdout",
     "output_type": "stream",
     "text": [
      "name  : puja Ghosh\n",
      "age   : 20\n",
      "address:sadar,Dinajpur\n"
     ]
    }
   ],
   "source": [
    "print(\"name  : puja Ghosh\",\n",
    "      \"age   : 20\",\n",
    "      \"address:sadar,Dinajpur\",sep=\"\\n\")\n",
    "    "
   ]
  },
  {
   "cell_type": "markdown",
   "id": "alpha-trademark",
   "metadata": {},
   "source": [
    "<h1>Problem 8</h1>\n"
   ]
  },
  {
   "cell_type": "code",
   "execution_count": 20,
   "id": "negative-venice",
   "metadata": {},
   "outputs": [
    {
     "name": "stdout",
     "output_type": "stream",
     "text": [
      "Enter the principal amount : 10000\n",
      "Enter the rate : 4.5\n",
      "Enter the time span :2\n",
      "amount : 10920.25 \n"
     ]
    }
   ],
   "source": [
    "p=float(input(\"Enter the principal amount : \"))\n",
    "r=float(input(\"Enter the rate : \"))\n",
    "t=float(input(\"Enter the time span :\"))\n",
    "c=r/100\n",
    "A=(p*(1+c)**t)\n",
    "print(\"amount : %.2f \" %A)"
   ]
  },
  {
   "cell_type": "code",
   "execution_count": 21,
   "id": "threaded-transformation",
   "metadata": {},
   "outputs": [
    {
     "name": "stdout",
     "output_type": "stream",
     "text": [
      "Compound Interest : 920.25 \n"
     ]
    }
   ],
   "source": [
    "Ci=A-p\n",
    "print(\"Compound Interest : %.2f \" %Ci)"
   ]
  },
  {
   "cell_type": "markdown",
   "id": "commercial-lyric",
   "metadata": {},
   "source": [
    "<h1>Problem 9<h1>"
   ]
  },
  {
   "cell_type": "code",
   "execution_count": 23,
   "id": "convinced-moses",
   "metadata": {},
   "outputs": [
    {
     "name": "stdout",
     "output_type": "stream",
     "text": [
      "* * * * *\n",
      " * * * * \n",
      " * * * \n",
      "  * * \n",
      "  *  \n"
     ]
    }
   ],
   "source": [
    "print(\"* * * * *\",\" * * * * \",\" * * * \",\"  * * \",\"  *  \",sep=\"\\n\")"
   ]
  },
  {
   "cell_type": "markdown",
   "id": "received-importance",
   "metadata": {},
   "source": [
    "<h1>Problem 10<h1>\n",
    "    "
   ]
  },
  {
   "cell_type": "markdown",
   "id": "protecting-answer",
   "metadata": {},
   "source": [
    "<p>According to equation,faherheit=celsius*1.8+32</p>\n"
   ]
  },
  {
   "cell_type": "code",
   "execution_count": 24,
   "id": "swiss-aluminum",
   "metadata": {},
   "outputs": [
    {
     "name": "stdout",
     "output_type": "stream",
     "text": [
      "enter celsius:32\n",
      "faherheit:  89.6\n"
     ]
    }
   ],
   "source": [
    "c=int(input(\"enter celsius:\"))\n",
    "print(\"faherheit: \",c*1.8+32)"
   ]
  },
  {
   "cell_type": "code",
   "execution_count": null,
   "id": "superb-farming",
   "metadata": {},
   "outputs": [],
   "source": []
  }
 ],
 "metadata": {
  "kernelspec": {
   "display_name": "Python 3",
   "language": "python",
   "name": "python3"
  },
  "language_info": {
   "codemirror_mode": {
    "name": "ipython",
    "version": 3
   },
   "file_extension": ".py",
   "mimetype": "text/x-python",
   "name": "python",
   "nbconvert_exporter": "python",
   "pygments_lexer": "ipython3",
   "version": "3.9.2"
  }
 },
 "nbformat": 4,
 "nbformat_minor": 5
}
